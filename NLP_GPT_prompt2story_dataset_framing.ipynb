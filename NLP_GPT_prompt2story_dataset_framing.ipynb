{
 "cells": [
  {
   "cell_type": "markdown",
   "id": "fa1194f7",
   "metadata": {},
   "source": [
    "# Preparing a dataset for GPT-3"
   ]
  },
  {
   "cell_type": "code",
   "execution_count": 12,
   "id": "87023028",
   "metadata": {},
   "outputs": [],
   "source": [
    "import os \n",
    "import pandas as pd"
   ]
  },
  {
   "cell_type": "code",
   "execution_count": 13,
   "id": "c016e430",
   "metadata": {},
   "outputs": [],
   "source": [
    "def Text2List(paragraph):\n",
    "    words = []\n",
    "    for word in paragraph.split():\n",
    "        words.append(word)\n",
    "    return words\n",
    "\n",
    "def PromptCatcher(words):\n",
    "    list1=[]\n",
    "    stop_element = \"<endprompts>\"\n",
    "    for index, element in enumerate(words):\n",
    "        list1.append(element)\n",
    "        if element == stop_element:\n",
    "            var=index\n",
    "            break\n",
    "    return var,list1[3:-1]"
   ]
  },
  {
   "cell_type": "markdown",
   "id": "b802dd9c",
   "metadata": {},
   "source": [
    "# Read the text file and put each line into the LIST"
   ]
  },
  {
   "cell_type": "code",
   "execution_count": 14,
   "id": "f5826abd",
   "metadata": {},
   "outputs": [],
   "source": [
    "file = open('valid_prompt2story.txt', 'r', encoding='UTF-8')\n",
    "text=[]\n",
    "pattern = r'\\s(?![\\[]\\\\w\\\\ [\\]])'\n",
    "# Iterate over the lines of the file\n",
    "promptList=[]\n",
    "storyList=[]\n",
    "for line in file:\n",
    "    text.append(line)\n",
    "    \n",
    "for t in text:\n",
    "    indx,prompt=PromptCatcher(Text2List(t))\n",
    "    promptvar = ' '.join(prompt)\n",
    "    promptList.append(promptvar)\n",
    "    story=' '.join(Text2List(t)[indx+1:])\n",
    "    storyList.append(story)\n",
    "    "
   ]
  },
  {
   "cell_type": "code",
   "execution_count": 15,
   "id": "f80b0eb1",
   "metadata": {},
   "outputs": [],
   "source": [
    "df_story = pd.DataFrame({'prompt': promptList, 'story': storyList})"
   ]
  },
  {
   "cell_type": "code",
   "execution_count": 16,
   "id": "25b46dcf",
   "metadata": {},
   "outputs": [],
   "source": [
    "df_story['story'] = df_story['story'].str.replace('<newline>', '')"
   ]
  },
  {
   "cell_type": "code",
   "execution_count": 17,
   "id": "08074606",
   "metadata": {},
   "outputs": [
    {
     "data": {
      "text/html": [
       "<div>\n",
       "<style scoped>\n",
       "    .dataframe tbody tr th:only-of-type {\n",
       "        vertical-align: middle;\n",
       "    }\n",
       "\n",
       "    .dataframe tbody tr th {\n",
       "        vertical-align: top;\n",
       "    }\n",
       "\n",
       "    .dataframe thead th {\n",
       "        text-align: right;\n",
       "    }\n",
       "</style>\n",
       "<table border=\"1\" class=\"dataframe\">\n",
       "  <thead>\n",
       "    <tr style=\"text-align: right;\">\n",
       "      <th></th>\n",
       "      <th>prompt</th>\n",
       "      <th>story</th>\n",
       "    </tr>\n",
       "  </thead>\n",
       "  <tbody>\n",
       "    <tr>\n",
       "      <th>0</th>\n",
       "      <td>Every person in the world undergoes a `` goodn...</td>\n",
       "      <td>Clancy Marguerian , 154 , private first class ...</td>\n",
       "    </tr>\n",
       "    <tr>\n",
       "      <th>1</th>\n",
       "      <td>Space mining is on the rise . The Space tanker...</td>\n",
       "      <td>„… and the little duckling will never be able ...</td>\n",
       "    </tr>\n",
       "    <tr>\n",
       "      <th>2</th>\n",
       "      <td>`` I wo n't have time to explain all of this t...</td>\n",
       "      <td>I wo n't have the time to explain all of this ...</td>\n",
       "    </tr>\n",
       "    <tr>\n",
       "      <th>3</th>\n",
       "      <td>Write about a song . Each sentence must start ...</td>\n",
       "      <td>* '' [ Sally ] ( https : //www.youtube.com/wat...</td>\n",
       "    </tr>\n",
       "    <tr>\n",
       "      <th>4</th>\n",
       "      <td>You live in Skyrim . It is your job to keep li...</td>\n",
       "      <td>Light is a marvelous thing . It alone can turn...</td>\n",
       "    </tr>\n",
       "    <tr>\n",
       "      <th>...</th>\n",
       "      <td>...</td>\n",
       "      <td>...</td>\n",
       "    </tr>\n",
       "    <tr>\n",
       "      <th>15615</th>\n",
       "      <td>You are a teenager with the ability to measure...</td>\n",
       "      <td>I decided to go with a 1-15 scale instead of 1...</td>\n",
       "    </tr>\n",
       "    <tr>\n",
       "      <th>15616</th>\n",
       "      <td>As your dying wish , you ask that your body is...</td>\n",
       "      <td>The shock hit me hard as my lungs filled with ...</td>\n",
       "    </tr>\n",
       "    <tr>\n",
       "      <th>15617</th>\n",
       "      <td>A young child stumbles upon a serial killer du...</td>\n",
       "      <td>`` Your mommy and daddy did n't raise you righ...</td>\n",
       "    </tr>\n",
       "    <tr>\n",
       "      <th>15618</th>\n",
       "      <td>Write from the perspective of a dog who thinks...</td>\n",
       "      <td>She wants me to get into the car . It 's just ...</td>\n",
       "    </tr>\n",
       "    <tr>\n",
       "      <th>15619</th>\n",
       "      <td>When you die , you do n't go to the afterlife ...</td>\n",
       "      <td>Thomas loves science fiction , and is pleased ...</td>\n",
       "    </tr>\n",
       "  </tbody>\n",
       "</table>\n",
       "<p>15620 rows × 2 columns</p>\n",
       "</div>"
      ],
      "text/plain": [
       "                                                  prompt  \\\n",
       "0      Every person in the world undergoes a `` goodn...   \n",
       "1      Space mining is on the rise . The Space tanker...   \n",
       "2      `` I wo n't have time to explain all of this t...   \n",
       "3      Write about a song . Each sentence must start ...   \n",
       "4      You live in Skyrim . It is your job to keep li...   \n",
       "...                                                  ...   \n",
       "15615  You are a teenager with the ability to measure...   \n",
       "15616  As your dying wish , you ask that your body is...   \n",
       "15617  A young child stumbles upon a serial killer du...   \n",
       "15618  Write from the perspective of a dog who thinks...   \n",
       "15619  When you die , you do n't go to the afterlife ...   \n",
       "\n",
       "                                                   story  \n",
       "0      Clancy Marguerian , 154 , private first class ...  \n",
       "1      „… and the little duckling will never be able ...  \n",
       "2      I wo n't have the time to explain all of this ...  \n",
       "3      * '' [ Sally ] ( https : //www.youtube.com/wat...  \n",
       "4      Light is a marvelous thing . It alone can turn...  \n",
       "...                                                  ...  \n",
       "15615  I decided to go with a 1-15 scale instead of 1...  \n",
       "15616  The shock hit me hard as my lungs filled with ...  \n",
       "15617  `` Your mommy and daddy did n't raise you righ...  \n",
       "15618  She wants me to get into the car . It 's just ...  \n",
       "15619  Thomas loves science fiction , and is pleased ...  \n",
       "\n",
       "[15620 rows x 2 columns]"
      ]
     },
     "execution_count": 17,
     "metadata": {},
     "output_type": "execute_result"
    }
   ],
   "source": [
    "df_story"
   ]
  },
  {
   "cell_type": "code",
   "execution_count": 18,
   "id": "5fc1f9e1",
   "metadata": {},
   "outputs": [],
   "source": [
    "df_story['prompt']= df_story['prompt'] + \"\\n\\nSTORY\\n\\n\"\n",
    "df_story['story']= \" \" + df_story['story'] + \" END\""
   ]
  },
  {
   "cell_type": "code",
   "execution_count": 19,
   "id": "a54735d8",
   "metadata": {},
   "outputs": [
    {
     "data": {
      "text/html": [
       "<div>\n",
       "<style scoped>\n",
       "    .dataframe tbody tr th:only-of-type {\n",
       "        vertical-align: middle;\n",
       "    }\n",
       "\n",
       "    .dataframe tbody tr th {\n",
       "        vertical-align: top;\n",
       "    }\n",
       "\n",
       "    .dataframe thead th {\n",
       "        text-align: right;\n",
       "    }\n",
       "</style>\n",
       "<table border=\"1\" class=\"dataframe\">\n",
       "  <thead>\n",
       "    <tr style=\"text-align: right;\">\n",
       "      <th></th>\n",
       "      <th>prompt</th>\n",
       "      <th>story</th>\n",
       "    </tr>\n",
       "  </thead>\n",
       "  <tbody>\n",
       "    <tr>\n",
       "      <th>0</th>\n",
       "      <td>Every person in the world undergoes a `` goodn...</td>\n",
       "      <td>Clancy Marguerian , 154 , private first class...</td>\n",
       "    </tr>\n",
       "    <tr>\n",
       "      <th>1</th>\n",
       "      <td>Space mining is on the rise . The Space tanker...</td>\n",
       "      <td>„… and the little duckling will never be able...</td>\n",
       "    </tr>\n",
       "    <tr>\n",
       "      <th>2</th>\n",
       "      <td>`` I wo n't have time to explain all of this t...</td>\n",
       "      <td>I wo n't have the time to explain all of this...</td>\n",
       "    </tr>\n",
       "    <tr>\n",
       "      <th>3</th>\n",
       "      <td>Write about a song . Each sentence must start ...</td>\n",
       "      <td>* '' [ Sally ] ( https : //www.youtube.com/wa...</td>\n",
       "    </tr>\n",
       "    <tr>\n",
       "      <th>4</th>\n",
       "      <td>You live in Skyrim . It is your job to keep li...</td>\n",
       "      <td>Light is a marvelous thing . It alone can tur...</td>\n",
       "    </tr>\n",
       "  </tbody>\n",
       "</table>\n",
       "</div>"
      ],
      "text/plain": [
       "                                              prompt  \\\n",
       "0  Every person in the world undergoes a `` goodn...   \n",
       "1  Space mining is on the rise . The Space tanker...   \n",
       "2  `` I wo n't have time to explain all of this t...   \n",
       "3  Write about a song . Each sentence must start ...   \n",
       "4  You live in Skyrim . It is your job to keep li...   \n",
       "\n",
       "                                               story  \n",
       "0   Clancy Marguerian , 154 , private first class...  \n",
       "1   „… and the little duckling will never be able...  \n",
       "2   I wo n't have the time to explain all of this...  \n",
       "3   * '' [ Sally ] ( https : //www.youtube.com/wa...  \n",
       "4   Light is a marvelous thing . It alone can tur...  "
      ]
     },
     "execution_count": 19,
     "metadata": {},
     "output_type": "execute_result"
    }
   ],
   "source": [
    "df_story.head()"
   ]
  },
  {
   "cell_type": "code",
   "execution_count": 20,
   "id": "c927dfc1",
   "metadata": {},
   "outputs": [],
   "source": [
    "df_story.columns=['prompt','completion']"
   ]
  },
  {
   "cell_type": "markdown",
   "id": "ceb779be",
   "metadata": {},
   "source": [
    "# convert to jasonl file\n"
   ]
  },
  {
   "cell_type": "code",
   "execution_count": 30,
   "id": "05b7e680",
   "metadata": {},
   "outputs": [],
   "source": [
    "df_story.head()\n",
    "df_story_new=df_story.iloc[:50]"
   ]
  },
  {
   "cell_type": "code",
   "execution_count": 31,
   "id": "2cd5450d",
   "metadata": {},
   "outputs": [],
   "source": [
    "#df_story.to_json(\"prompt2story.jsonl\", orient='records', lines=True)"
   ]
  },
  {
   "cell_type": "code",
   "execution_count": 35,
   "id": "66a42631",
   "metadata": {},
   "outputs": [
    {
     "data": {
      "text/html": [
       "<div>\n",
       "<style scoped>\n",
       "    .dataframe tbody tr th:only-of-type {\n",
       "        vertical-align: middle;\n",
       "    }\n",
       "\n",
       "    .dataframe tbody tr th {\n",
       "        vertical-align: top;\n",
       "    }\n",
       "\n",
       "    .dataframe thead th {\n",
       "        text-align: right;\n",
       "    }\n",
       "</style>\n",
       "<table border=\"1\" class=\"dataframe\">\n",
       "  <thead>\n",
       "    <tr style=\"text-align: right;\">\n",
       "      <th></th>\n",
       "      <th>prompt</th>\n",
       "      <th>completion</th>\n",
       "    </tr>\n",
       "  </thead>\n",
       "  <tbody>\n",
       "    <tr>\n",
       "      <th>0</th>\n",
       "      <td>Every person in the world undergoes a `` goodn...</td>\n",
       "      <td>Clancy Marguerian , 154 , private first class...</td>\n",
       "    </tr>\n",
       "    <tr>\n",
       "      <th>1</th>\n",
       "      <td>Space mining is on the rise . The Space tanker...</td>\n",
       "      <td>„… and the little duckling will never be able...</td>\n",
       "    </tr>\n",
       "    <tr>\n",
       "      <th>2</th>\n",
       "      <td>`` I wo n't have time to explain all of this t...</td>\n",
       "      <td>I wo n't have the time to explain all of this...</td>\n",
       "    </tr>\n",
       "    <tr>\n",
       "      <th>3</th>\n",
       "      <td>Write about a song . Each sentence must start ...</td>\n",
       "      <td>* '' [ Sally ] ( https : //www.youtube.com/wa...</td>\n",
       "    </tr>\n",
       "    <tr>\n",
       "      <th>4</th>\n",
       "      <td>You live in Skyrim . It is your job to keep li...</td>\n",
       "      <td>Light is a marvelous thing . It alone can tur...</td>\n",
       "    </tr>\n",
       "  </tbody>\n",
       "</table>\n",
       "</div>"
      ],
      "text/plain": [
       "                                              prompt  \\\n",
       "0  Every person in the world undergoes a `` goodn...   \n",
       "1  Space mining is on the rise . The Space tanker...   \n",
       "2  `` I wo n't have time to explain all of this t...   \n",
       "3  Write about a song . Each sentence must start ...   \n",
       "4  You live in Skyrim . It is your job to keep li...   \n",
       "\n",
       "                                          completion  \n",
       "0   Clancy Marguerian , 154 , private first class...  \n",
       "1   „… and the little duckling will never be able...  \n",
       "2   I wo n't have the time to explain all of this...  \n",
       "3   * '' [ Sally ] ( https : //www.youtube.com/wa...  \n",
       "4   Light is a marvelous thing . It alone can tur...  "
      ]
     },
     "execution_count": 35,
     "metadata": {},
     "output_type": "execute_result"
    }
   ],
   "source": [
    "df_story_new.head()"
   ]
  },
  {
   "cell_type": "code",
   "execution_count": 36,
   "id": "d568bfa8",
   "metadata": {},
   "outputs": [],
   "source": [
    "df_story_new.to_json(\"prompt2story_new.jsonl\", orient='records', lines=True)"
   ]
  },
  {
   "cell_type": "code",
   "execution_count": null,
   "id": "3612931f",
   "metadata": {},
   "outputs": [],
   "source": []
  }
 ],
 "metadata": {
  "kernelspec": {
   "display_name": "Python 3 (ipykernel)",
   "language": "python",
   "name": "python3"
  },
  "language_info": {
   "codemirror_mode": {
    "name": "ipython",
    "version": 3
   },
   "file_extension": ".py",
   "mimetype": "text/x-python",
   "name": "python",
   "nbconvert_exporter": "python",
   "pygments_lexer": "ipython3",
   "version": "3.9.7"
  }
 },
 "nbformat": 4,
 "nbformat_minor": 5
}
